{
 "cells": [
  {
   "cell_type": "code",
   "execution_count": 21,
   "metadata": {
    "execution": {
     "iopub.execute_input": "1970-01-01T00:38:19.946260Z",
     "iopub.status.busy": "1970-01-01T00:38:19.945352Z",
     "iopub.status.idle": "1970-01-01T00:38:19.958712Z",
     "shell.execute_reply": "1970-01-01T00:38:19.955545Z",
     "shell.execute_reply.started": "1970-01-01T00:38:19.946202Z"
    },
    "scrolled": true
   },
   "outputs": [],
   "source": [
    "# output 디렉토리 초기화 - 없으면 생성, 있으면 내부 jpg 파일 삭제\n",
    "\n",
    "import os\n",
    "\n",
    "if os.path.exists(\"./output\"):\n",
    "    listdir = os.listdir(\"./output\")\n",
    "    for f in listdir:\n",
    "        if f.endswith(\".jpg\"):\n",
    "            os.remove(f\"./output/{f}\")\n",
    "else:\n",
    "    os.makedirs(\"./output\")\n",
    "\n",
    "if os.path.exists(\"./output.zip\"):\n",
    "    os.remove(\"./output.zip\")"
   ]
  },
  {
   "cell_type": "code",
   "execution_count": null,
   "metadata": {
    "execution": {
     "iopub.execute_input": "1970-01-01T00:38:11.339081Z",
     "iopub.status.busy": "1970-01-01T00:38:11.338028Z",
     "iopub.status.idle": "1970-01-01T00:38:13.323848Z",
     "shell.execute_reply": "1970-01-01T00:38:13.320848Z",
     "shell.execute_reply.started": "1970-01-01T00:38:11.338953Z"
    }
   },
   "outputs": [],
   "source": [
    "# 카메라 입력 받아온 후 녹화\n",
    "\n",
    "try:\n",
    "    import jchm\n",
    "except ModuleNotFoundError:\n",
    "    pass\n",
    "import cv2\n",
    "import os\n",
    "import time\n",
    "from contextlib import suppress\n",
    "import numpy\n",
    "from jchutils.camera import Camera, CameraMode\n",
    "\n",
    "def main():\n",
    "    OUTPUT_DIR = \"./output\"\n",
    "    FPS = 10\n",
    "    DT = 1.0 / FPS\n",
    "    CAMERA = \"lidar\"\n",
    "    JPG_COMPRESS_QUALITY = 80\n",
    "    REALTIME_SHOW_QUALITY = 80\n",
    "\n",
    "    camera = Camera(\n",
    "        mode=CameraMode.JAJUCHA,\n",
    "        device=CAMERA\n",
    "    )\n",
    "\n",
    "    with suppress(KeyboardInterrupt):\n",
    "        cnt = 0\n",
    "        next_frame = time.perf_counter()\n",
    "        while True:\n",
    "            next_frame += DT\n",
    "            now = time.perf_counter()\n",
    "            if now < next_frame:\n",
    "                time.sleep(next_frame - now)\n",
    "            else:\n",
    "                missed = int((now - next_frame) // DT) + 1\n",
    "                next_frame += missed * DT\n",
    "            cnt += 1\n",
    "            img = camera.getFrame()\n",
    "            camera.showFrame(img, REALTIME_SHOW_QUALITY)\n",
    "            camera.saveFrame(img, OUTPUT_DIR, f\"{cnt}.jpg\", JPG_COMPRESS_QUALITY)\n",
    "\n",
    "if __name__ == \"__main__\":\n",
    "    main()"
   ]
  },
  {
   "cell_type": "code",
   "execution_count": null,
   "metadata": {
    "execution": {
     "iopub.execute_input": "1970-01-01T00:36:54.355870Z",
     "iopub.status.busy": "1970-01-01T00:36:54.355006Z",
     "iopub.status.idle": "1970-01-01T00:36:56.547449Z",
     "shell.execute_reply": "1970-01-01T00:36:56.546144Z",
     "shell.execute_reply.started": "1970-01-01T00:36:54.355818Z"
    }
   },
   "outputs": [],
   "source": [
    "# output 디렉토리 압축\n",
    "\n",
    "import shutil\n",
    "\n",
    "!cd output && find . -exec touch -t 200001010000 {} \\;\n",
    "\n",
    "shutil.make_archive(\"./output\", \"zip\", \"./output/\")"
   ]
  },
  {
   "cell_type": "code",
   "execution_count": null,
   "metadata": {
    "execution": {
     "iopub.execute_input": "1970-01-01T00:25:19.500215Z",
     "iopub.status.busy": "1970-01-01T00:25:19.499006Z",
     "iopub.status.idle": "1970-01-01T00:36:06.153022Z",
     "shell.execute_reply": "1970-01-01T00:36:06.150620Z",
     "shell.execute_reply.started": "1970-01-01T00:25:19.500151Z"
    }
   },
   "outputs": [],
   "source": [
    "# 파일 HTTP 정적 서빙 + 업로드\n",
    "\n",
    "from jchutils.fileserver import FileServer\n",
    "\n",
    "fileserver = FileServer(\"./\", \"0.0.0.0\", 8000)\n",
    "fileserver.runForever()"
   ]
  }
 ],
 "metadata": {
  "kernelspec": {
   "display_name": "Python 3 (ipykernel)",
   "language": "python",
   "name": "python3"
  },
  "language_info": {
   "codemirror_mode": {
    "name": "ipython",
    "version": 3
   },
   "file_extension": ".py",
   "mimetype": "text/x-python",
   "name": "python",
   "nbconvert_exporter": "python",
   "pygments_lexer": "ipython3",
   "version": "3.8.10"
  }
 },
 "nbformat": 4,
 "nbformat_minor": 4
}
