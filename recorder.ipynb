{
 "cells": [
  {
   "cell_type": "code",
   "execution_count": null,
   "metadata": {},
   "outputs": [],
   "source": [
    "# 라이브러리 import\n",
    "\n",
    "import jchm\n",
    "import cv2\n",
    "import os\n",
    "import time\n",
    "import math\n",
    "import shutil\n",
    "\n",
    "from http.server import ThreadingHTTPServer, SimpleHTTPRequestHandler\n",
    "from functools import partial"
   ]
  },
  {
   "cell_type": "code",
   "execution_count": null,
   "metadata": {},
   "outputs": [],
   "source": [
    "# output 디렉토리 초기화 - 없으면 생성, 있으면 내부 jpg 파일 삭제\n",
    "\n",
    "if os.path.exists(\"./output\"):\n",
    "    listdir = os.listdir(\"./output\")\n",
    "    for f in listdir:\n",
    "        if f.endswith(\".jpg\"):\n",
    "            os.remove(f\"./output/{f}\")\n",
    "else:\n",
    "    os.makedirs(\"./output\")"
   ]
  },
  {
   "cell_type": "code",
   "execution_count": null,
   "metadata": {
    "execution": {
     "iopub.execute_input": "1970-01-01T00:16:37.678372Z",
     "iopub.status.busy": "1970-01-01T00:16:37.676758Z",
     "iopub.status.idle": "1970-01-01T00:16:39.816308Z",
     "shell.execute_reply": "1970-01-01T00:16:39.812280Z",
     "shell.execute_reply.started": "1970-01-01T00:16:37.678290Z"
    },
    "scrolled": true
   },
   "outputs": [],
   "source": [
    "# 카메라 입력 받아온 후 녹화\n",
    "\n",
    "OUTPUT_DIR = \"./output\"\n",
    "FPS = 30\n",
    "DT = 1.0 / FPS\n",
    "\n",
    "next_frame = time.perf_counter()\n",
    "\n",
    "cnt = 0\n",
    "while True:\n",
    "    next_frame += DT\n",
    "    now = time.perf_counter()\n",
    "    if now < next_frame:\n",
    "        time.sleep(next_frame - now)\n",
    "    else:\n",
    "        missed = math.floor((now - next_frame) / DT)\n",
    "        next_frame += missed * DT\n",
    "    cnt += 1\n",
    "    img = jchm.camera.get_image()\n",
    "    jchm.camera.show_image(img, \"center\")\n",
    "    cv2.imwrite(f\"{OUTPUT_DIR}/{cnt}.jpg\", img, [cv2.IMWRITE_JPEG_QUALITY, 80])"
   ]
  },
  {
   "cell_type": "code",
   "execution_count": null,
   "metadata": {},
   "outputs": [],
   "source": [
    "# output 디렉토리 압축\n",
    "\n",
    "!cd output && find . -exec touch -t 200001010000 {} \\;\n",
    "\n",
    "shutil.make_archive(\"./output\", \"zip\", \"./output/\")"
   ]
  },
  {
   "cell_type": "code",
   "execution_count": null,
   "metadata": {
    "execution": {
     "iopub.execute_input": "1970-01-01T00:27:30.291193Z",
     "iopub.status.busy": "1970-01-01T00:27:30.290188Z",
     "iopub.status.idle": "1970-01-01T00:28:08.133732Z",
     "shell.execute_reply": "1970-01-01T00:28:08.132182Z",
     "shell.execute_reply.started": "1970-01-01T00:27:30.291072Z"
    }
   },
   "outputs": [],
   "source": [
    "# 파일 HTTP 정적 서빙\n",
    "# 동글 연결된 디바이스에서 127.17.0.3로 연결\n",
    "\n",
    "PORT = 8000\n",
    "BIND = \"0.0.0.0\"\n",
    "DIR = os.getcwd()\n",
    "\n",
    "def main():\n",
    "  handler_cls = partial(SimpleHTTPRequestHandler, directory=DIR)\n",
    "  with ThreadingHTTPServer((BIND, PORT), handler_cls) as httpd:\n",
    "    root = os.path.abspath(DIR)\n",
    "    print(f\"Serving {root} at http://{BIND}:{PORT}\")\n",
    "    try:\n",
    "      httpd.serve_forever()\n",
    "    except KeyboardInterrupt:\n",
    "      pass\n",
    "\n",
    "if __name__ == \"__main__\":\n",
    "  main()"
   ]
  },
  {
   "cell_type": "code",
   "execution_count": null,
   "metadata": {},
   "outputs": [],
   "source": [
    "\n"
   ]
  }
 ],
 "metadata": {
  "kernelspec": {
   "display_name": "venv",
   "language": "python",
   "name": "python3"
  },
  "language_info": {
   "codemirror_mode": {
    "name": "ipython",
    "version": 3
   },
   "file_extension": ".py",
   "mimetype": "text/x-python",
   "name": "python",
   "nbconvert_exporter": "python",
   "pygments_lexer": "ipython3",
   "version": "3.9.22"
  }
 },
 "nbformat": 4,
 "nbformat_minor": 4
}
